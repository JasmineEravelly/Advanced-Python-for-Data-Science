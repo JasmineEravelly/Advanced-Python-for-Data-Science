{
 "cells": [
  {
   "cell_type": "code",
   "execution_count": 1,
   "metadata": {},
   "outputs": [
    {
     "ename": "NameError",
     "evalue": "name 'b' is not defined",
     "output_type": "error",
     "traceback": [
      "\u001b[1;31m---------------------------------------------------------------------------\u001b[0m",
      "\u001b[1;31mNameError\u001b[0m                                 Traceback (most recent call last)",
      "\u001b[1;32m<ipython-input-1-488068fe1e94>\u001b[0m in \u001b[0;36m<module>\u001b[1;34m\u001b[0m\n\u001b[1;32m----> 1\u001b[1;33m \u001b[0ma\u001b[0m\u001b[1;33m=\u001b[0m\u001b[0mb\u001b[0m\u001b[1;33m\u001b[0m\u001b[1;33m\u001b[0m\u001b[0m\n\u001b[0m",
      "\u001b[1;31mNameError\u001b[0m: name 'b' is not defined"
     ]
    }
   ],
   "source": [
    "a=b"
   ]
  },
  {
   "cell_type": "code",
   "execution_count": 2,
   "metadata": {},
   "outputs": [
    {
     "name": "stdout",
     "output_type": "stream",
     "text": [
      "Some problem may occur\n"
     ]
    }
   ],
   "source": [
    "try:\n",
    "    ## code black where error can occur\n",
    "    a=b\n",
    "except:\n",
    "    print('Some problem may occur')"
   ]
  },
  {
   "cell_type": "code",
   "execution_count": 3,
   "metadata": {},
   "outputs": [
    {
     "name": "stdout",
     "output_type": "stream",
     "text": [
      "name 'b' is not defined\n"
     ]
    }
   ],
   "source": [
    "try:\n",
    "    ## to display the same error reason\n",
    "    a=b\n",
    "except Exception as ex:\n",
    "    print(ex)"
   ]
  },
  {
   "cell_type": "code",
   "execution_count": 4,
   "metadata": {},
   "outputs": [
    {
     "name": "stdout",
     "output_type": "stream",
     "text": [
      "The variable is not defined\n"
     ]
    }
   ],
   "source": [
    "try:\n",
    "    a=b\n",
    "except NameError:\n",
    "    print(\"The variable is not defined\")"
   ]
  },
  {
   "cell_type": "code",
   "execution_count": 10,
   "metadata": {},
   "outputs": [
    {
     "name": "stdout",
     "output_type": "stream",
     "text": [
      "enter the num1:10\n",
      "enter the num2:0\n",
      "Please enter greater than 1\n"
     ]
    }
   ],
   "source": [
    "try:\n",
    "    a=int(input('enter the num1:'))\n",
    "    b=int(input('enter the num2:'))\n",
    "    c=a+b\n",
    "    d=a/b\n",
    "    e=a*b\n",
    "    e=f\n",
    "    print(c)\n",
    "    print(d)\n",
    "    print(e)\n",
    "except TypeError:\n",
    "    print('Please enter the same datatype')\n",
    "except ZeroDivisionError:\n",
    "    print('Please enter greater than 1')\n",
    "except NameError:\n",
    "    print('Please define the variable with a value')\n",
    "except Exception as ex:\n",
    "    print(ex)"
   ]
  },
  {
   "cell_type": "code",
   "execution_count": 13,
   "metadata": {},
   "outputs": [
    {
     "name": "stdout",
     "output_type": "stream",
     "text": [
      "enter the num1:10\n",
      "enter the num2:6\n",
      "Please define the variable with a value\n"
     ]
    }
   ],
   "source": [
    "try:\n",
    "    a=int(input('enter the num1:'))\n",
    "    b=int(input('enter the num2:'))\n",
    "    c=a+b\n",
    "    d=a/b\n",
    "    e=a*b\n",
    "    e=f\n",
    "    print(c)\n",
    "    print(d)\n",
    "    print(e)\n",
    "except TypeError:\n",
    "    print('Please enter the same datatype')\n",
    "except ZeroDivisionError: \n",
    "    print('Please enter greater than 1')\n",
    "except NameError:\n",
    "    print('Please define the variable with a value')\n",
    "except Exception as ex:\n",
    "    print(ex)"
   ]
  },
  {
   "cell_type": "code",
   "execution_count": 2,
   "metadata": {},
   "outputs": [
    {
     "name": "stdout",
     "output_type": "stream",
     "text": [
      "enter the num1:10\n",
      "enter the num2:2\n",
      "Please enter the same datatype\n"
     ]
    }
   ],
   "source": [
    "try:\n",
    "    a=int(input('enter the num1:'))\n",
    "    b=input('enter the num2:')\n",
    "    c=a+b\n",
    "    d=a/b\n",
    "    e=a*b\n",
    "    e=f\n",
    "    print(c)\n",
    "    print(d)\n",
    "    print(e)\n",
    "except TypeError:\n",
    "    print('Please enter the same datatype')\n",
    "except ZeroDivisionError:\n",
    "    print('Please enter greater than 1')\n",
    "except NameError:\n",
    "    print('Please define the variable with a value')\n",
    "except Exception as ex:\n",
    "    print(ex)"
   ]
  },
  {
   "cell_type": "code",
   "execution_count": 3,
   "metadata": {},
   "outputs": [
    {
     "name": "stdout",
     "output_type": "stream",
     "text": [
      "enter the num1:10\n",
      "enter the num2:5\n",
      "Please define the variable with a value\n"
     ]
    }
   ],
   "source": [
    "try:\n",
    "    a=int(input('enter the num1:'))\n",
    "    b=int(input('enter the num2:'))\n",
    "    c=a+b\n",
    "    d=a/b\n",
    "    e=a*b\n",
    "    e=f\n",
    "    print(c)\n",
    "    print(d)\n",
    "    print(e)\n",
    "except TypeError:\n",
    "    print('Please enter the same datatype')\n",
    "except ZeroDivisionError:\n",
    "    print('Please enter greater than 1')\n",
    "except NameError:\n",
    "    print('Please define the variable with a value')\n",
    "except Exception as ex:\n",
    "    print(ex)"
   ]
  },
  {
   "cell_type": "code",
   "execution_count": 4,
   "metadata": {},
   "outputs": [
    {
     "name": "stdout",
     "output_type": "stream",
     "text": [
      "enter the num1:10\n",
      "enter the num2:6\n",
      "Please define the variable with a value\n",
      "The execusion is done\n"
     ]
    }
   ],
   "source": [
    "### try,else,finally\n",
    "\n",
    "try:\n",
    "    a=int(input('enter the num1:'))\n",
    "    b=int(input('enter the num2:'))\n",
    "    c=a+b\n",
    "    d=a/b\n",
    "    e=a*b\n",
    "    e=f\n",
    "except TypeError:\n",
    "    print('Please enter the same datatype')\n",
    "except ZeroDivisionError:\n",
    "    print('Please enter greater than 1')\n",
    "except NameError:\n",
    "    print('Please define the variable with a value')\n",
    "except Exception as ex:\n",
    "    print(ex)\n",
    "\n",
    "else:\n",
    "    print(c)\n",
    "    print(d)\n",
    "    print(e)\n",
    "    \n",
    "finally:\n",
    "    print('The execusion is done')"
   ]
  },
  {
   "cell_type": "code",
   "execution_count": null,
   "metadata": {},
   "outputs": [],
   "source": []
  }
 ],
 "metadata": {
  "kernelspec": {
   "display_name": "Python 3",
   "language": "python",
   "name": "python3"
  },
  "language_info": {
   "codemirror_mode": {
    "name": "ipython",
    "version": 3
   },
   "file_extension": ".py",
   "mimetype": "text/x-python",
   "name": "python",
   "nbconvert_exporter": "python",
   "pygments_lexer": "ipython3",
   "version": "3.8.5"
  }
 },
 "nbformat": 4,
 "nbformat_minor": 4
}
